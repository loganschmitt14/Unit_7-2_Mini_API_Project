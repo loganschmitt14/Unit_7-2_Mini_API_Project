{
 "cells": [
  {
   "cell_type": "markdown",
   "metadata": {},
   "source": [
    "This exercise will require you to pull some data from https://data.nasdaq.com/ (formerly Quandl API)."
   ]
  },
  {
   "cell_type": "markdown",
   "metadata": {},
   "source": [
    "As a first step, you will need to register a free account on the https://data.nasdaq.com/ website."
   ]
  },
  {
   "cell_type": "markdown",
   "metadata": {},
   "source": [
    "After you register, you will be provided with a unique API key, that you should store:\n",
    "\n",
    "*Note*: Use a `.env` file and put your key in there and `python-dotenv` to access it in this notebook. \n",
    "\n",
    "The code below uses a key that was used when generating this project but has since been deleted. Never submit your keys to source control. There is a `.env-example` file in this repository to illusrtate what you need. Copy that to a file called `.env` and use your own api key in that `.env` file. Make sure you also have a `.gitignore` file with a line for `.env` added to it. \n",
    "\n",
    "The standard Python gitignore is [here](https://github.com/github/gitignore/blob/master/Python.gitignore) you can just copy that. "
   ]
  },
  {
   "cell_type": "code",
   "execution_count": 70,
   "metadata": {},
   "outputs": [],
   "source": [
    "# get api key from your .env file\n",
    "import os\n",
    "from dotenv import load_dotenv\n",
    "\n",
    "load_dotenv()\n",
    "API_KEY = os.getenv('NASDAQ_API_KEY')\n",
    "\n",
    "#print(API_KEY)"
   ]
  },
  {
   "cell_type": "markdown",
   "metadata": {},
   "source": [
    "Nasdaq Data has a large number of data sources, but, unfortunately, most of them require a Premium subscription. Still, there are also a good number of free datasets."
   ]
  },
  {
   "cell_type": "markdown",
   "metadata": {},
   "source": [
    "For this mini project, we will focus on equities data from the Frankfurt Stock Exhange (FSE), which is available for free. We'll try and analyze the stock prices of a company called Carl Zeiss Meditec, which manufactures tools for eye examinations, as well as medical lasers for laser eye surgery: https://www.zeiss.com/meditec/int/home.html. The company is listed under the stock ticker AFX_X."
   ]
  },
  {
   "cell_type": "markdown",
   "metadata": {},
   "source": [
    "You can find the detailed Nasdaq Data API instructions here: https://docs.data.nasdaq.com/docs/in-depth-usage"
   ]
  },
  {
   "cell_type": "markdown",
   "metadata": {},
   "source": [
    "While there is a dedicated Python package for connecting to the Nasdaq API, we would prefer that you use the *requests* package, which can be easily downloaded using *pip* or *conda*. You can find the documentation for the package here: http://docs.python-requests.org/en/master/ "
   ]
  },
  {
   "cell_type": "markdown",
   "metadata": {},
   "source": [
    "Finally, apart from the *requests* package, you are encouraged to not use any third party Python packages, such as *pandas*, and instead focus on what's available in the Python Standard Library (the *collections* module might come in handy: https://pymotw.com/3/collections/).\n",
    "Also, since you won't have access to DataFrames, you are encouraged to us Python's native data structures - preferably dictionaries, though some questions can also be answered using lists.\n",
    "You can read more on these data structures here: https://docs.python.org/3/tutorial/datastructures.html"
   ]
  },
  {
   "cell_type": "markdown",
   "metadata": {},
   "source": [
    "Keep in mind that the JSON responses you will be getting from the API map almost one-to-one to Python's dictionaries. Unfortunately, they can be very nested, so make sure you read up on indexing dictionaries in the documentation provided above."
   ]
  },
  {
   "cell_type": "code",
   "execution_count": 58,
   "metadata": {},
   "outputs": [],
   "source": [
    "# First, import the relevant modules\n",
    "import requests\n",
    "import collections\n",
    "import json\n",
    "from datetime import datetime\n",
    "import statistics"
   ]
  },
  {
   "cell_type": "markdown",
   "metadata": {},
   "source": [
    "Note: API's can change a bit with each version, for this exercise it is reccomended to use the nasdaq api at `https://data.nasdaq.com/api/v3/`. This is the same api as what used to be quandl so `https://www.quandl.com/api/v3/` should work too.\n",
    "\n",
    "Hint: We are looking for the `AFX_X` data on the `datasets/FSE/` dataset."
   ]
  },
  {
   "cell_type": "code",
   "execution_count": 67,
   "metadata": {},
   "outputs": [],
   "source": [
    "# Now, call the Nasdaq API and pull out a small sample of the data (only one day) to get a glimpse\n",
    "# into the JSON structure that will be returned\n",
    "base_url = 'https://data.nasdaq.com/api/v3/datasets/'\n",
    "API_target = 'FSE/AFX_X.json?start_date=2017-05-09&end_date=2017-05-09'\n",
    "url = f'{base_url}{API_target}&api_key={API_KEY}'\n",
    "r = requests.get(url)\n",
    "json_data = r.json()"
   ]
  },
  {
   "cell_type": "code",
   "execution_count": 68,
   "metadata": {},
   "outputs": [
    {
     "name": "stdout",
     "output_type": "stream",
     "text": [
      "{\n",
      "   \"dataset\": {\n",
      "      \"id\": 10095370,\n",
      "      \"dataset_code\": \"AFX_X\",\n",
      "      \"database_code\": \"FSE\",\n",
      "      \"name\": \"Carl Zeiss Meditec (AFX_X)\",\n",
      "      \"description\": \"Stock Prices for Carl Zeiss Meditec (2020-11-02) from the Frankfurt Stock Exchange.<br><br>Trading System: Xetra<br><br>ISIN: DE0005313704\",\n",
      "      \"refreshed_at\": \"2020-12-01T14:48:09.907Z\",\n",
      "      \"newest_available_date\": \"2020-12-01\",\n",
      "      \"oldest_available_date\": \"2000-06-07\",\n",
      "      \"column_names\": [\n",
      "         \"Date\",\n",
      "         \"Open\",\n",
      "         \"High\",\n",
      "         \"Low\",\n",
      "         \"Close\",\n",
      "         \"Change\",\n",
      "         \"Traded Volume\",\n",
      "         \"Turnover\",\n",
      "         \"Last Price of the Day\",\n",
      "         \"Daily Traded Units\",\n",
      "         \"Daily Turnover\"\n",
      "      ],\n",
      "      \"frequency\": \"daily\",\n",
      "      \"type\": \"Time Series\",\n",
      "      \"premium\": false,\n",
      "      \"limit\": null,\n",
      "      \"transform\": null,\n",
      "      \"column_index\": null,\n",
      "      \"start_date\": \"2017-05-09\",\n",
      "      \"end_date\": \"2017-05-09\",\n",
      "      \"data\": [\n",
      "         [\n",
      "            \"2017-05-09\",\n",
      "            41.83,\n",
      "            43.55,\n",
      "            41.82,\n",
      "            43.3,\n",
      "            null,\n",
      "            151439.0,\n",
      "            6538516.0,\n",
      "            null,\n",
      "            null,\n",
      "            null\n",
      "         ]\n",
      "      ],\n",
      "      \"collapse\": null,\n",
      "      \"order\": null,\n",
      "      \"database_id\": 6129\n",
      "   }\n",
      "}\n"
     ]
    }
   ],
   "source": [
    "# Inspect the JSON structure of the object you created, and take note of how nested it is,\n",
    "# as well as the overall structure\n",
    "print(json.dumps(json_data, indent = 3))"
   ]
  },
  {
   "cell_type": "markdown",
   "metadata": {},
   "source": [
    "These are your tasks for this mini project:\n",
    "\n",
    "1. Collect data from the Franfurt Stock Exchange, for the ticker AFX_X, for the whole year 2017 (keep in mind that the date format is YYYY-MM-DD).\n",
    "2. Convert the returned JSON object into a Python dictionary.\n",
    "3. Calculate what the highest and lowest opening prices were for the stock in this period.\n",
    "4. What was the largest change in any one day (based on High and Low price)?\n",
    "5. What was the largest change between any two days (based on Closing Price)?\n",
    "6. What was the average daily trading volume during this year?\n",
    "7. (Optional) What was the median trading volume during this year. (Note: you may need to implement your own function for calculating the median.)"
   ]
  },
  {
   "cell_type": "code",
   "execution_count": 71,
   "metadata": {},
   "outputs": [],
   "source": [
    "API_target_2017 = 'FSE/AFX_X.json?start_date=2017-01-01&end_date=2017-12-31'\n",
    "url_2017 = f'{base_url}{API_target_2017}&api_key={API_KEY}'\n",
    "r_2017 = requests.get(url_2017)\n",
    "json_data_2017 = r_2017.json()\n",
    "\n",
    "data = json_data_2017['dataset']['data']"
   ]
  },
  {
   "cell_type": "code",
   "execution_count": 72,
   "metadata": {},
   "outputs": [
    {
     "name": "stdout",
     "output_type": "stream",
     "text": [
      "dict_keys(['id', 'dataset_code', 'database_code', 'name', 'description', 'refreshed_at', 'newest_available_date', 'oldest_available_date', 'column_names', 'frequency', 'type', 'premium', 'limit', 'transform', 'column_index', 'start_date', 'end_date', 'data', 'collapse', 'order', 'database_id'])\n"
     ]
    }
   ],
   "source": [
    "print(json_data_2017['dataset'].keys())"
   ]
  },
  {
   "cell_type": "code",
   "execution_count": 73,
   "metadata": {},
   "outputs": [
    {
     "name": "stdout",
     "output_type": "stream",
     "text": [
      "The highest opening price for AFX_X in 2017 was €53.11 on December 14, 2017.\n",
      "The lowest opening price for AFX_X in 2017 was €34.00 on January 24, 2017.\n",
      "The maximum single-day price change for AFX_X in 2017 was €2.81 on May 11, 2017.\n"
     ]
    }
   ],
   "source": [
    "# Calculate highest opening price, lowest opening price, maximum price change\n",
    "max_open_price = None\n",
    "min_open_price = None\n",
    "max_open_date = None\n",
    "min_open_date = None\n",
    "max_change = None\n",
    "max_change_date = None\n",
    "\n",
    "for day in data:\n",
    "    date = day[0]\n",
    "    open_price = day[1]\n",
    "    high_price = day[2]\n",
    "    low_price = day[3]\n",
    "    if open_price is not None:\n",
    "        if max_open_price is None or open_price > max_open_price:\n",
    "            max_open_price = open_price\n",
    "            max_open_date = date\n",
    "        if min_open_price is None or open_price < min_open_price:\n",
    "            min_open_price = open_price\n",
    "            min_open_date = date\n",
    "    if high_price is not None:\n",
    "        if low_price is not None:\n",
    "            day_change = high_price - low_price\n",
    "            if max_change is None or day_change > max_change:\n",
    "                max_change = day_change\n",
    "                max_change_date = date\n",
    "\n",
    "max_open_date_f = datetime.strptime(max_open_date, \"%Y-%m-%d\").strftime(\"%B %d, %Y\")\n",
    "min_open_date_f = datetime.strptime(min_open_date, \"%Y-%m-%d\").strftime(\"%B %d, %Y\")\n",
    "max_change_date_f = datetime.strptime(max_change_date, \"%Y-%m-%d\").strftime(\"%B %d, %Y\")\n",
    "print(f'The highest opening price for AFX_X in 2017 was \\u20ac{max_open_price:.2f} on {max_open_date_f}.')\n",
    "print(f'The lowest opening price for AFX_X in 2017 was \\u20ac{min_open_price:.2f} on {min_open_date_f}.')\n",
    "print(f'The maximum single-day price change for AFX_X in 2017 was \\u20ac{max_change:.2f} on {max_change_date_f}.')"
   ]
  },
  {
   "cell_type": "code",
   "execution_count": 74,
   "metadata": {},
   "outputs": [
    {
     "name": "stdout",
     "output_type": "stream",
     "text": [
      "The largest change in AFX_X closing price from one day to the next was\n",
      " €2.56 from August 08, 2017 to August 09, 2017.\n"
     ]
    }
   ],
   "source": [
    "# Calculate maximum day-to-day change in closing price\n",
    "max_close_change = 0\n",
    "today = None\n",
    "yesterday = None\n",
    "\n",
    "for i in range(1, len(data)):\n",
    "    close_price_yesterday = data[i][4]\n",
    "    close_price_today = data[i-1][4]\n",
    "    close_change = abs(close_price_today - close_price_yesterday)\n",
    "    if close_change > max_close_change:\n",
    "        max_close_change = close_change\n",
    "        today = data[i-1][0]\n",
    "        yesterday = data[i][0]\n",
    "        \n",
    "today_f = datetime.strptime(today, \"%Y-%m-%d\").strftime(\"%B %d, %Y\")         \n",
    "yesterday_f = datetime.strptime(yesterday, \"%Y-%m-%d\").strftime(\"%B %d, %Y\")\n",
    "print(f'The largest change in AFX_X closing price from one day to the next was\\n \\u20ac{max_close_change:.2f} from {yesterday_f} to {today_f}.')"
   ]
  },
  {
   "cell_type": "code",
   "execution_count": 75,
   "metadata": {},
   "outputs": [
    {
     "name": "stdout",
     "output_type": "stream",
     "text": [
      "The average daily trading volume of AFX_X in 2017 was 89,124 shares and the \n",
      "median was 76,286 shares.\n"
     ]
    }
   ],
   "source": [
    "# Create a list of all the daily trading volumes\n",
    "trading_volumes = [row[6] for row in data]\n",
    "\n",
    "# Calculate the mean and median trading volume using the statistics module\n",
    "mean_volume = statistics.mean(trading_volumes)\n",
    "median_volume = statistics.median(trading_volumes)\n",
    "\n",
    "print(f'The average daily trading volume of AFX_X in 2017 was {mean_volume:,.0f} shares \\\n",
    "and the \\nmedian was {median_volume:,.0f} shares.')"
   ]
  }
 ],
 "metadata": {
  "interpreter": {
   "hash": "7635eb1b9d0fe97add78a7368b6b431c09bb8ad5c42e437d64abdd99821c31ae"
  },
  "kernelspec": {
   "display_name": "Python 3 (ipykernel)",
   "language": "python",
   "name": "python3"
  },
  "language_info": {
   "codemirror_mode": {
    "name": "ipython",
    "version": 3
   },
   "file_extension": ".py",
   "mimetype": "text/x-python",
   "name": "python",
   "nbconvert_exporter": "python",
   "pygments_lexer": "ipython3",
   "version": "3.9.13"
  }
 },
 "nbformat": 4,
 "nbformat_minor": 4
}
